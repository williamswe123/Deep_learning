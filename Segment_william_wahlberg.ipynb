{
 "cells": [
  {
   "cell_type": "markdown",
   "metadata": {},
   "source": [
    "---\n",
    "\n",
    "<center><h1 style=\"font-size:40px;\">Project 1<br>Image Segmentation using CNNs</h1></center>\n",
    "\n",
    "---"
   ]
  },
  {
   "cell_type": "markdown",
   "metadata": {},
   "source": [
    "William Wahlberg"
   ]
  },
  {
   "cell_type": "markdown",
   "metadata": {},
   "source": [
    "In this project, we will design a CNN-based **encoder-decoder architecture** to segment rgb images. Image segmentation refers to dividing the image into semantically meaningful regions. For instance, representing each object in the scene with a unique shape or color. In this project, your goal is to successfully run a segmentation program to segment different shapes from Flying Object dataset.\n",
    "\n",
    "Good luck!\n",
    "\n",
    "---"
   ]
  },
  {
   "cell_type": "code",
   "execution_count": 1,
   "metadata": {},
   "outputs": [],
   "source": [
    "import torch\n",
    "from torch import nn\n",
    "import os\n",
    "import imageio\n",
    "import torchvision\n",
    "import math\n",
    "import matplotlib.pyplot as plt\n",
    "from torch.utils.data import DataLoader\n",
    "from collections import OrderedDict \n",
    "from torch import optim\n",
    "import time\n",
    "import numpy as np\n",
    "from PIL import Image\n",
    "from torchvision.transforms import functional as TF"
   ]
  },
  {
   "cell_type": "code",
   "execution_count": 2,
   "metadata": {},
   "outputs": [],
   "source": [
    "training_img_dir = \"../FlyingObjectDataset_10K/training\"\n",
    "validation_img_dir = \"../FlyingObjectDataset_10K/validation\"\n",
    "testing_img_dir = \"../FlyingObjectDataset_10K/testing\""
   ]
  },
  {
   "cell_type": "markdown",
   "metadata": {},
   "source": [
    "# Task 1\n",
    "Based on the code provided for the previous lab adapt the ```FlyingObjects``` class so as it can be used for the ```Semantic Segmentation``` project.\n",
    "\n",
    "Do not forget to go through the folders go get an idea of what they contain: ```gt_images``` will be our ground truth and ```image``` our images as in the previous lab."
   ]
  },
  {
   "cell_type": "markdown",
   "metadata": {},
   "source": [
    "Now that you have your ```Dataset``` class. Create your three splits using ```Dataloader```. If you desire you can use the ```image_with_labels``` from the previous lab to visualize both image and semantic segmentation maps."
   ]
  },
  {
   "cell_type": "markdown",
   "metadata": {},
   "source": [
    "## Create model\n",
    "During training process the training loss can not only stop decreasing but also go far from a desired value. This occured due to the vanishing gradient. This can be observed as for every layer that we go backwards in the network gradient gets smaller and smaller.\n",
    "\n",
    "Skip connections in deep architectures, skip some layer in the neural network and feeds the output of one layer as the input to the next layers. This provide an alternative path for the gradient during backpropagation. Therefore, the skip connections help to preserve the gradient.\n",
    "\n",
    "Skip connections is also very popular for semantic segmentation where information captured in the initial layers also would like to be learned in later layers.\n",
    "It has been observed that in earlier layers the learned features correspond to lower semantic information that is extracted from the input.\n",
    "\n",
    "Therefore, for this project we will use skip connections for the auto encoder. More specifically, a U-Net. The skip connections are placed at each step of the encoder and feeding information to the decoder. The size of the input must be the same for both encoder and decoder where skip connections are applied.\n"
   ]
  },
  {
   "cell_type": "markdown",
   "metadata": {
    "jupyter": {
     "outputs_hidden": false
    }
   },
   "source": [
    "![SegmentationModel](segmentation_proj.png)"
   ]
  },
  {
   "cell_type": "code",
   "execution_count": 3,
   "metadata": {
    "jupyter": {
     "outputs_hidden": false
    }
   },
   "outputs": [],
   "source": [
    "class FlyingObjects(torch.utils.data.Dataset):\n",
    "    \"\"\"Dataset to Flying Object Dataset for the classification task.\n",
    "       The label information is encoded on the filename, __extract_label will extract the label following the chosen granularity\n",
    "    \n",
    "    \"\"\"\n",
    "    def __init__(self, root,transform=None):\n",
    "        super(FlyingObjects,self).__init__()\n",
    "        self.root = root\n",
    "        self.transform = transform\n",
    "        \n",
    "        self.images = [os.path.join(dp,f) for dp, dn, fn in os.walk(os.path.expanduser(self.root+'/image')) for f in fn if f.endswith(\".png\")]        \n",
    "        self.images.sort()\n",
    "\n",
    "        self.labels = [os.path.join(dp,f) for dp, dn, fn in os.walk(os.path.expanduser(self.root+'/gt_image')) for f in fn if f.endswith(\".png\")]\n",
    "        self.labels.sort()\n",
    "\n",
    "    def rgb_to_class_id(self, y, color_to_class_id):\n",
    "        \n",
    "        class_id_image = np.zeros((y.shape[0], y.shape[1]), dtype=int)\n",
    "        \n",
    "        for rgb, class_id in color_to_class_id.items():\n",
    "            mask = np.all(y == np.array(rgb, dtype=np.uint8), axis=-1)\n",
    "            class_id_image[mask] = class_id\n",
    "\n",
    "        return class_id_image\n",
    "\n",
    "    def __getitem__(self, index):\n",
    "        x = imageio.v2.imread(self.images[index])\n",
    "        y = imageio.v2.imread(self.labels[index])\n",
    "\n",
    "        color_to_class_id = {\n",
    "            (0, 0, 0): 0,  # Blue to class 0\n",
    "            (255, 0, 0): 1,  # Red to class 1\n",
    "            (0, 255, 0): 2,  # Green to class 2\n",
    "            (0, 0, 255): 3,  # Blue to class 3\n",
    "        }\n",
    "        y = self.rgb_to_class_id(y, color_to_class_id)\n",
    "        #print(\"after rgb to id\", y.shape)\n",
    "\n",
    "        if self.transform:\n",
    "            x = self.transform(x)  # Apply transform to the image\n",
    "            y = np.expand_dims(y, axis=2)  # Add a channel-like dimension to y for the transform\n",
    "            y = self.transform(y)  # Apply the same transform to y\n",
    "            y = y.squeeze(0)  # Remove the added channel dimension\n",
    "        else:\n",
    "            x = torch.from_numpy(x).float().permute(2, 0, 1)  # Reorder dimensions\n",
    "            y = torch.from_numpy(y)\n",
    "\n",
    "        return x, y\n",
    "\n",
    "    def __len__(self):\n",
    "        return len(self.images)\n",
    "    \n",
    "\n",
    "\n"
   ]
  },
  {
   "cell_type": "code",
   "execution_count": 4,
   "metadata": {},
   "outputs": [
    {
     "name": "stdout",
     "output_type": "stream",
     "text": [
      "nr of batches: train:2705 valid:561 test:555\n",
      "torch.Size([3, 64, 64])\n",
      "torch.Size([64, 64])\n",
      "Value 0 appears 3691 times\n",
      "Value 1 appears 265 times\n",
      "Value 2 appears 140 times\n"
     ]
    }
   ],
   "source": [
    "\n",
    "transform = torchvision.transforms.Compose([\n",
    "    torchvision.transforms.ToTensor(),\n",
    "    torchvision.transforms.Resize((64, 64))\n",
    "])\n",
    "\n",
    "training_set = FlyingObjects(training_img_dir, transform=transform)\n",
    "validation_set = FlyingObjects(validation_img_dir, transform=transform)\n",
    "testing_set = FlyingObjects(testing_img_dir, transform=transform)\n",
    "\n",
    "train_loader = DataLoader(training_set, batch_size=4, shuffle=True)\n",
    "val_loader = DataLoader(validation_set, batch_size=4, shuffle=True)\n",
    "test_loader = DataLoader(testing_set, batch_size=4, shuffle=True)\n",
    "\n",
    "print(f\"nr of batches: train:{len(train_loader)} valid:{len(val_loader)} test:{len(test_loader)}\")\n",
    "\n",
    "d, test = training_set.__getitem__(0)\n",
    "print(d.shape)\n",
    "print(test.shape)\n",
    "\n",
    "counts = torch.bincount(test.view(-1))\n",
    "\n",
    "for i, count in enumerate(counts):\n",
    "    if count > 0:\n",
    "        print(f\"Value {i} appears {count} times\")\n"
   ]
  },
  {
   "cell_type": "code",
   "execution_count": 5,
   "metadata": {},
   "outputs": [],
   "source": [
    "class SimpleModel(nn.Module):\n",
    "    def __init__(self, in_channels:int=3, n_classes:int=4, **kwargs):  # Set n_classes to 4\n",
    "        super(SimpleModel, self).__init__()\n",
    "        \n",
    "        # Encoder\n",
    "        self.conv1 = self.Encoder(in_channels, 32, 7, 3)\n",
    "        self.conv2 = self.Encoder(32, 64, 3, 1)\n",
    "        \n",
    "        # Decoder\n",
    "        self.upconv2 = self.Decoder(64, 32, 3, 1)\n",
    "        self.upconv1 = self.Decoder(32*2, n_classes, 3, 1)  # Output channels set to 4\n",
    "\n",
    "    def forward(self, x):\n",
    "\n",
    "        # Downsample\n",
    "        conv1 = self.conv1(x)\n",
    "        conv2 = self.conv2(conv1)\n",
    "        \n",
    "        # Upsample\n",
    "        upconv2 = self.upconv2(conv2)\n",
    "        upconv1 = self.upconv1(torch.cat([upconv2, conv1], 1))\n",
    "\n",
    "        return upconv1\n",
    "\n",
    "    def Encoder(self, in_channels, out_channels, kernel_size, padding):\n",
    "\n",
    "        return nn.Sequential(\n",
    "            torch.nn.Conv2d(in_channels, out_channels, kernel_size=kernel_size, stride=1, padding=padding),\n",
    "            torch.nn.BatchNorm2d(out_channels),\n",
    "            torch.nn.ReLU(),\n",
    "            torch.nn.Conv2d(out_channels, out_channels, kernel_size=kernel_size, stride=1, padding=padding),\n",
    "            torch.nn.BatchNorm2d(out_channels),\n",
    "            torch.nn.ReLU(),\n",
    "            torch.nn.MaxPool2d(kernel_size=3, stride=2, padding=1)\n",
    "        )\n",
    "\n",
    "\n",
    "    def Decoder(self, in_channels, out_channels, kernel_size, padding):\n",
    "        return nn.Sequential(\n",
    "            torch.nn.Conv2d(in_channels, out_channels, kernel_size, stride=1, padding=padding),\n",
    "            torch.nn.BatchNorm2d(out_channels),\n",
    "            torch.nn.ReLU(),\n",
    "            torch.nn.Conv2d(out_channels, out_channels, kernel_size, stride=1, padding=padding),\n",
    "            torch.nn.BatchNorm2d(out_channels),\n",
    "            torch.nn.ReLU(),\n",
    "            torch.nn.ConvTranspose2d(out_channels, out_channels, kernel_size=3, stride=2, padding=1, output_padding=1) \n",
    "        )"
   ]
  },
  {
   "cell_type": "code",
   "execution_count": 6,
   "metadata": {},
   "outputs": [],
   "source": [
    "def display_images_labels_predictions(data_loader, model, num_images):\n",
    "    model.eval()  \n",
    "    with torch.no_grad():  # Disable gradient computation\n",
    "        for data, labels in data_loader:\n",
    "            predictions = model(data)\n",
    "            predictions = torch.argmax(predictions, dim=1)\n",
    "\n",
    "            for i in range(num_images):\n",
    "                plt.figure(figsize=(12, 4))\n",
    "\n",
    "                # Display Image\n",
    "                plt.subplot(1, 3, 1)\n",
    "                plt.imshow(data[i].permute(1, 2, 0).cpu().numpy()) \n",
    "                plt.title(\"Image\")\n",
    "                plt.axis('off')\n",
    "\n",
    "                # Display Label\n",
    "                plt.subplot(1, 3, 2)\n",
    "                plt.imshow(labels[i].cpu().numpy(), cmap='gray')\n",
    "                plt.title(\"Label\")\n",
    "                plt.axis('off')\n",
    "\n",
    "                # Display Prediction\n",
    "                plt.subplot(1, 3, 3)\n",
    "                plt.imshow(predictions[i].cpu().numpy(), cmap='gray')\n",
    "                plt.title(\"Prediction\")\n",
    "                plt.axis('off')\n",
    "\n",
    "                plt.show()\n",
    "\n",
    "            break "
   ]
  },
  {
   "cell_type": "markdown",
   "metadata": {},
   "source": [
    "Do not forget to use Tensorboard. It really helps."
   ]
  },
  {
   "cell_type": "markdown",
   "metadata": {},
   "source": [
    "# Task 2\n",
    "\n",
    "Adapt your previously coded function ```train function``` for the current task. Do not forget to select an appropriate ```loss``` function for the task."
   ]
  },
  {
   "cell_type": "code",
   "execution_count": 7,
   "metadata": {},
   "outputs": [],
   "source": [
    "def calculate_pixel_accuracy(y_pred, y_true):\n",
    "    y_pred_classes = torch.argmax(y_pred, dim=1)\n",
    "    correct = (y_pred_classes == y_true).float()\n",
    "    accuracy = correct.sum() / correct.numel() * 100\n",
    "    return accuracy\n",
    "\n",
    "def calculate_iou(y_pred, y_true, n_classes=4):\n",
    "    # Convert predictions to class indices\n",
    "    y_pred = torch.argmax(y_pred, dim=1)\n",
    "\n",
    "    iou_list = []\n",
    "    for cls in range(n_classes):  # Iterate over each class\n",
    "        true_class = y_true == cls\n",
    "        predicted_class = y_pred == cls\n",
    "        if true_class.sum() == 0 and predicted_class.sum() == 0:\n",
    "            iou_list.append(float('nan'))  # Avoid division by zero\n",
    "        else:\n",
    "            intersection = torch.logical_and(true_class, predicted_class).sum()\n",
    "            union = torch.logical_or(true_class, predicted_class).sum()\n",
    "            iou = intersection / union\n",
    "            iou_list.append(iou.item())\n",
    "\n",
    "    return sum(iou_list) / len(iou_list) \n",
    "\n",
    "\n",
    "def train_epoch(epoch, optimizer, loss, model, train_loader):\n",
    "    total_loss = 0\n",
    "    model.train()\n",
    "    for batch_idx, (data, label) in enumerate(train_loader):\n",
    "\n",
    "        y = model(data)\n",
    "\n",
    "        loss_value = loss(y, label)\n",
    "        loss_value.backward()\n",
    "        total_loss += loss_value.item()\n",
    "        optimizer.step()\n",
    "        optimizer.zero_grad()\n",
    "    return total_loss / len(train_loader)\n",
    "\n",
    "def validate_epoch(epoch, loss, model, val_loader):\n",
    "    total_loss = 0\n",
    "    total_accuracy = 0\n",
    "    total_iou = 0\n",
    "    model.eval()\n",
    "    with torch.no_grad():\n",
    "        for batch_idx, (data, label) in enumerate(val_loader):\n",
    "            y = model(data)\n",
    "           \n",
    "            loss_value = loss(y,label)\n",
    "            \n",
    "            total_loss += loss_value.item()\n",
    "            total_accuracy += calculate_pixel_accuracy(y, label)\n",
    "            iou = calculate_iou(y, label)\n",
    "            total_iou += iou if not math.isnan(iou) else 0\n",
    "            \n",
    "    return (total_loss/len(val_loader), total_accuracy/len(val_loader), total_iou / len(val_loader))\n",
    "\n",
    "def a_proper_training(num_epoch, model, optimizer, loss, train_loader, val_loader):\n",
    "    best_epoch = None\n",
    "    best_model = None\n",
    "    best_val_loss = None\n",
    "    train_losses = list()\n",
    "    val_losses = list()\n",
    "    print(\"Begin Training\")\n",
    "\n",
    "    for epoch in range(num_epoch):\n",
    "        start_time = time.time()  # Start time\n",
    "\n",
    "        train_loss = train_epoch(epoch, optimizer, loss, model, train_loader)\n",
    "        val_loss, accuracy, iou = validate_epoch(epoch, loss, model, val_loader)\n",
    "        train_losses.append(train_loss)\n",
    "        val_losses.append(val_loss)\n",
    "        if epoch == 0:\n",
    "            best_val_loss = val_loss\n",
    "            \n",
    "        if val_loss < best_val_loss:\n",
    "            best_val_loss = val_loss\n",
    "            best_model=model\n",
    "            best_epoch=epoch\n",
    "\n",
    "        end_time = time.time()\n",
    "        elapsed_time = end_time - start_time\n",
    "        \n",
    "        print(f\"Epoch {epoch + 1}/{num_epoch} \", end=\"\")\n",
    "        print(f\"Train_Loss = {round(train_loss,4)} \", end=\"\")\n",
    "        print(f\"Valid_Loss = {round(val_loss,4)} \", end=\"\")\n",
    "        print(f\"Accuracy = {round(accuracy.item(), 6)}% \", end=\"\")\n",
    "        print(f\"IoU = {round(iou, 8)} \", end=\"\")\n",
    "        print(f\"Elapsed_time = {round(elapsed_time)}s\")\n",
    "        \n",
    "    return (best_model, best_epoch, train_losses, val_losses)"
   ]
  },
  {
   "cell_type": "code",
   "execution_count": 8,
   "metadata": {},
   "outputs": [],
   "source": [
    "criterion = nn.CrossEntropyLoss()\n",
    "my_model = SimpleModel(input_size=64, hidden_size=10, output_size=2, num_layers=2)\n",
    "optimizer = optim.Adam(my_model.parameters(), lr=0.001)\n",
    "\n",
    "#best_model, best_epoch, train_losses, val_losses = a_proper_training(\n",
    "#    1, my_model, optimizer, criterion, train_loader, val_loader\n",
    "#)"
   ]
  },
  {
   "cell_type": "markdown",
   "metadata": {},
   "source": [
    "# Task 3\n",
    "\n",
    "We want to be able to compute the accuracy on the ```validation``` split at the end of each epoch. Adapt question 2 such that we can do so. \n",
    "Do not forget to put your model in ```eval``` when computing your predictions and put it back in ```train``` after."
   ]
  },
  {
   "cell_type": "code",
   "execution_count": 9,
   "metadata": {},
   "outputs": [
    {
     "name": "stdout",
     "output_type": "stream",
     "text": [
      "Begin Training\n",
      "Epoch 1/50 Train_Loss = 0.2613 Valid_Loss = 0.1567 Accuracy = 93.47406% IoU = 0.52430218 Elapsed_time = 93s\n",
      "Epoch 2/50 Train_Loss = 0.0965 Valid_Loss = 0.0626 Accuracy = 98.615791% IoU = 0.87514096 Elapsed_time = 94s\n",
      "Epoch 3/50 Train_Loss = 0.032 Valid_Loss = 0.0289 Accuracy = 99.077751% IoU = 0.91482957 Elapsed_time = 91s\n",
      "Epoch 4/50 Train_Loss = 0.0198 Valid_Loss = 0.024 Accuracy = 99.197334% IoU = 0.92574365 Elapsed_time = 90s\n",
      "Epoch 5/50 Train_Loss = 0.0159 Valid_Loss = 0.0232 Accuracy = 99.239418% IoU = 0.92665681 Elapsed_time = 90s\n",
      "Epoch 6/50 Train_Loss = 0.013 Valid_Loss = 0.0215 Accuracy = 99.311081% IoU = 0.93546944 Elapsed_time = 92s\n",
      "Epoch 7/50 Train_Loss = 0.0114 Valid_Loss = 0.0526 Accuracy = 98.019081% IoU = 0.88262626 Elapsed_time = 94s\n",
      "Epoch 8/50 Train_Loss = 0.0104 Valid_Loss = 0.0205 Accuracy = 99.36602% IoU = 0.93898166 Elapsed_time = 93s\n",
      "Epoch 9/50 Train_Loss = 0.009 Valid_Loss = 0.0216 Accuracy = 99.325775% IoU = 0.93545785 Elapsed_time = 94s\n",
      "Epoch 10/50 Train_Loss = 0.0084 Valid_Loss = 0.0197 Accuracy = 99.388947% IoU = 0.94049239 Elapsed_time = 91s\n",
      "Epoch 11/50 Train_Loss = 0.0077 Valid_Loss = 0.0204 Accuracy = 99.391319% IoU = 0.94254024 Elapsed_time = 96s\n",
      "Epoch 12/50 Train_Loss = 0.0073 Valid_Loss = 0.0222 Accuracy = 99.387665% IoU = 0.94066494 Elapsed_time = 96s\n",
      "Epoch 13/50 Train_Loss = 0.0067 Valid_Loss = 0.0188 Accuracy = 99.418427% IoU = 0.9437521 Elapsed_time = 96s\n",
      "Epoch 14/50 Train_Loss = 0.0063 Valid_Loss = 0.0206 Accuracy = 99.4039% IoU = 0.94210862 Elapsed_time = 96s\n",
      "Epoch 15/50 Train_Loss = 0.0061 Valid_Loss = 0.0202 Accuracy = 99.438637% IoU = 0.94521478 Elapsed_time = 97s\n",
      "Epoch 16/50 Train_Loss = 0.0057 Valid_Loss = 0.0231 Accuracy = 99.331963% IoU = 0.93665987 Elapsed_time = 97s\n",
      "Epoch 17/50 Train_Loss = 0.0054 Valid_Loss = 0.0201 Accuracy = 99.451675% IoU = 0.94621403 Elapsed_time = 96s\n",
      "Epoch 18/50 Train_Loss = 0.0053 Valid_Loss = 0.0196 Accuracy = 99.457024% IoU = 0.94745479 Elapsed_time = 97s\n",
      "Epoch 19/50 Train_Loss = 0.005 Valid_Loss = 0.0203 Accuracy = 99.453735% IoU = 0.94730701 Elapsed_time = 75s\n",
      "Epoch 20/50 Train_Loss = 0.0049 Valid_Loss = 0.0201 Accuracy = 99.456802% IoU = 0.94716428 Elapsed_time = 75s\n",
      "Epoch 21/50 Train_Loss = 0.0047 Valid_Loss = 0.0208 Accuracy = 99.453285% IoU = 0.94741687 Elapsed_time = 75s\n",
      "Epoch 22/50 Train_Loss = 0.0045 Valid_Loss = 0.0202 Accuracy = 99.45813% IoU = 0.94744417 Elapsed_time = 73s\n",
      "Epoch 23/50 Train_Loss = 0.0044 Valid_Loss = 0.0202 Accuracy = 99.477119% IoU = 0.94952288 Elapsed_time = 75s\n",
      "Epoch 24/50 Train_Loss = 0.0042 Valid_Loss = 0.0214 Accuracy = 99.457756% IoU = 0.94688316 Elapsed_time = 75s\n",
      "Epoch 25/50 Train_Loss = 0.004 Valid_Loss = 0.0211 Accuracy = 99.476479% IoU = 0.94870765 Elapsed_time = 72s\n",
      "Epoch 26/50 Train_Loss = 0.004 Valid_Loss = 0.0223 Accuracy = 99.45945% IoU = 0.94585959 Elapsed_time = 76s\n",
      "Epoch 27/50 Train_Loss = 0.0039 Valid_Loss = 0.0219 Accuracy = 99.454491% IoU = 0.94703188 Elapsed_time = 72s\n",
      "Epoch 28/50 Train_Loss = 0.0038 Valid_Loss = 0.0212 Accuracy = 99.482101% IoU = 0.94960739 Elapsed_time = 91s\n",
      "Epoch 29/50 Train_Loss = 0.0036 Valid_Loss = 0.0221 Accuracy = 99.456612% IoU = 0.94769247 Elapsed_time = 94s\n",
      "Epoch 30/50 Train_Loss = 0.0036 Valid_Loss = 0.0224 Accuracy = 99.479263% IoU = 0.94724859 Elapsed_time = 97s\n",
      "Epoch 31/50 Train_Loss = 0.0035 Valid_Loss = 0.0234 Accuracy = 99.47319% IoU = 0.94714311 Elapsed_time = 95s\n",
      "Epoch 32/50 Train_Loss = 0.0034 Valid_Loss = 0.0228 Accuracy = 99.480034% IoU = 0.94928312 Elapsed_time = 95s\n",
      "Epoch 33/50 Train_Loss = 0.0033 Valid_Loss = 0.0236 Accuracy = 99.474449% IoU = 0.94847773 Elapsed_time = 95s\n",
      "Epoch 34/50 Train_Loss = 0.0033 Valid_Loss = 0.0261 Accuracy = 99.46167% IoU = 0.94768883 Elapsed_time = 94s\n",
      "Epoch 35/50 Train_Loss = 0.0033 Valid_Loss = 0.0213 Accuracy = 99.4804% IoU = 0.9499262 Elapsed_time = 97s\n",
      "Epoch 36/50 Train_Loss = 0.0032 Valid_Loss = 0.0236 Accuracy = 99.466255% IoU = 0.94613717 Elapsed_time = 95s\n",
      "Epoch 37/50 Train_Loss = 0.0031 Valid_Loss = 0.0225 Accuracy = 99.494072% IoU = 0.95113383 Elapsed_time = 96s\n",
      "Epoch 38/50 Train_Loss = 0.003 Valid_Loss = 0.0231 Accuracy = 99.482193% IoU = 0.94914761 Elapsed_time = 96s\n",
      "Epoch 39/50 Train_Loss = 0.003 Valid_Loss = 0.0228 Accuracy = 99.489372% IoU = 0.94891844 Elapsed_time = 96s\n",
      "Epoch 40/50 Train_Loss = 0.003 Valid_Loss = 0.0233 Accuracy = 99.482979% IoU = 0.94952684 Elapsed_time = 96s\n",
      "Epoch 41/50 Train_Loss = 0.0029 Valid_Loss = 0.0252 Accuracy = 99.476761% IoU = 0.94897349 Elapsed_time = 96s\n",
      "Epoch 42/50 Train_Loss = 0.0028 Valid_Loss = 0.0255 Accuracy = 99.452881% IoU = 0.94693133 Elapsed_time = 96s\n",
      "Epoch 43/50 Train_Loss = 0.0028 Valid_Loss = 0.0252 Accuracy = 99.457146% IoU = 0.9472733 Elapsed_time = 97s\n",
      "Epoch 44/50 Train_Loss = 0.0028 Valid_Loss = 0.0243 Accuracy = 99.476387% IoU = 0.94718138 Elapsed_time = 97s\n",
      "Epoch 45/50 Train_Loss = 0.0028 Valid_Loss = 0.0231 Accuracy = 99.485939% IoU = 0.9501606 Elapsed_time = 98s\n",
      "Epoch 46/50 Train_Loss = 0.0027 Valid_Loss = 0.0265 Accuracy = 99.464684% IoU = 0.94732919 Elapsed_time = 97s\n",
      "Epoch 47/50 Train_Loss = 0.0026 Valid_Loss = 0.0235 Accuracy = 99.482361% IoU = 0.94967221 Elapsed_time = 96s\n",
      "Epoch 48/50 Train_Loss = 0.0026 Valid_Loss = 0.0246 Accuracy = 99.481201% IoU = 0.94936037 Elapsed_time = 97s\n",
      "Epoch 49/50 Train_Loss = 0.0026 Valid_Loss = 0.0257 Accuracy = 99.480331% IoU = 0.9491531 Elapsed_time = 95s\n",
      "Epoch 50/50 Train_Loss = 0.0025 Valid_Loss = 0.0274 Accuracy = 99.476913% IoU = 0.94859289 Elapsed_time = 94s\n"
     ]
    }
   ],
   "source": [
    "criterion = nn.CrossEntropyLoss()\n",
    "my_model = SimpleModel(input_size=64, hidden_size=10, output_size=2, num_layers=2)\n",
    "optimizer = optim.Adam(my_model.parameters(), lr=0.001)\n",
    "\n",
    "best_model, best_epoch, train_losses, val_losses = a_proper_training(\n",
    "    50, my_model, optimizer, criterion, train_loader, val_loader\n",
    ")\n"
   ]
  },
  {
   "cell_type": "code",
   "execution_count": 11,
   "metadata": {
    "scrolled": true
   },
   "outputs": [
    {
     "data": {
      "text/plain": [
       "<matplotlib.legend.Legend at 0x7f324da83190>"
      ]
     },
     "execution_count": 11,
     "metadata": {},
     "output_type": "execute_result"
    },
    {
     "data": {
      "image/png": "[encoded data removed]",
      "text/plain": [
       "<Figure size 640x480 with 1 Axes>"
      ]
     },
     "metadata": {},
     "output_type": "display_data"
    }
   ],
   "source": [
    "plt.plot(train_losses, label=\"train\")\n",
    "plt.plot(val_losses, label=\"val\")\n",
    "plt.axvline(x = best_epoch, color = 'r', label = f\"best epoch - {best_epoch}\")\n",
    "plt.title(\"Loss\")\n",
    "plt.legend()\n"
   ]
  },
  {
   "cell_type": "code",
   "execution_count": 13,
   "metadata": {},
   "outputs": [
    {
     "name": "stdout",
     "output_type": "stream",
     "text": [
      "<class '__main__.SimpleModel'>\n"
     ]
    },
    {
     "data": {
      "image/png": "[encoded data removed]",
      "text/plain": [
       "<Figure size 1200x400 with 3 Axes>"
      ]
     },
     "metadata": {},
     "output_type": "display_data"
    },
    {
     "data": {
      "image/png": "[encoded data removed]",
      "text/plain": [
       "<Figure size 1200x400 with 3 Axes>"
      ]
     },
     "metadata": {},
     "output_type": "display_data"
    },
    {
     "data": {
      "image/png": "[encoded data removed]",
      "text/plain": [
       "<Figure size 1200x400 with 3 Axes>"
      ]
     },
     "metadata": {},
     "output_type": "display_data"
    },
    {
     "data": {
      "image/png": "[encoded data removed]",
      "text/plain": [
       "<Figure size 1200x400 with 3 Axes>"
      ]
     },
     "metadata": {},
     "output_type": "display_data"
    }
   ],
   "source": [
    "print(type(best_model))\n",
    "display_images_labels_predictions(train_loader, best_model, 4)\n"
   ]
  },
  {
   "cell_type": "markdown",
   "metadata": {},
   "source": [
    "# Task 4\n",
    "\n",
    "Is ```accuracy```  a good metric for the task at hand? Why? ```hint:``` Try to compare your results ```qualitatively``` and ```quantitatively```."
   ]
  },
  {
   "cell_type": "markdown",
   "metadata": {},
   "source": [
    "In the context of segmentation with potentially imbalanced classes, accuracy is not a not metric. The constant 100% accuracy value when both the training and validation accuracy is lowering show that one should not make an assuption ragarding the models persorrmance based on accuracy."
   ]
  },
  {
   "cell_type": "markdown",
   "metadata": {},
   "source": [
    "# Task 5\n",
    "\n",
    "If you answered in a negative way for Question 5, which would be a better metric for the task? Can you use it for the current project? Don't forget to present your answers in the seminar."
   ]
  },
  {
   "cell_type": "markdown",
   "metadata": {},
   "source": [
    "A common metric for semantic segmentation is Intersection over Union (IoU). It is a measure of the overlap between predicted segmentation and ground truth, calculated as the area of overlap divided by the area of union. Higher IoU indicates better accuracy."
   ]
  },
  {
   "cell_type": "markdown",
   "metadata": {},
   "source": [
    "# Task 6\n",
    "\n",
    "As we did for the classification lab, go through the transformation documention. Did you find any that helps? Why?"
   ]
  },
  {
   "cell_type": "code",
   "execution_count": 14,
   "metadata": {},
   "outputs": [],
   "source": [
    "import random\n",
    "from torchvision.transforms import functional as TF\n",
    "\n",
    "class JointTransform:\n",
    "    def __init__(self, transform):\n",
    "        self.transform = transform\n",
    "\n",
    "    def __call__(self, image, label):\n",
    "        # Apply joint transformations\n",
    "        if self.transform:\n",
    "            # Random horizontal flip\n",
    "            if random.random() > 0.5:\n",
    "                image = TF.hflip(image)\n",
    "                label = TF.hflip(label)\n",
    "\n",
    "            # Random vertical flip\n",
    "            if random.random() > 0.5:\n",
    "                image = TF.vflip(image)\n",
    "                label = TF.vflip(label)\n",
    "\n",
    "            # Add other joint transformations as needed\n",
    "\n",
    "        return image, label\n",
    "    \n",
    "class FlyingObjects(torch.utils.data.Dataset):\n",
    "    \"\"\"Dataset to Flying Object Dataset for the classification task.\n",
    "       The label information is encoded on the filename, __extract_label will extract the label following the chosen granularity\n",
    "    \n",
    "    \"\"\"\n",
    "    def __init__(self, root,transform=None):\n",
    "        super(FlyingObjects,self).__init__()\n",
    "        self.root = root\n",
    "        self.transform = transform\n",
    "        \n",
    "        self.images = [os.path.join(dp,f) for dp, dn, fn in os.walk(os.path.expanduser(self.root+'/image')) for f in fn if f.endswith(\".png\")]        \n",
    "        self.images.sort()\n",
    "\n",
    "        self.labels = [os.path.join(dp,f) for dp, dn, fn in os.walk(os.path.expanduser(self.root+'/gt_image')) for f in fn if f.endswith(\".png\")]\n",
    "        self.labels.sort()\n",
    "\n",
    "    def rgb_to_class_id(self, y, color_to_class_id):\n",
    "        y_np = np.array(y)  # Convert PIL Image to NumPy array\n",
    "        class_id_image = np.zeros((y_np.shape[0], y_np.shape[1]), dtype=int)\n",
    "\n",
    "        for rgb, class_id in color_to_class_id.items():\n",
    "            mask = np.all(y_np == np.array(rgb, dtype=np.uint8), axis=-1)\n",
    "            class_id_image[mask] = class_id\n",
    "\n",
    "        return class_id_image\n",
    "    \n",
    "    def __getitem__(self, index):\n",
    "        x = Image.open(self.images[index])\n",
    "        y = Image.open(self.labels[index])\n",
    "\n",
    "        # Apply joint transform\n",
    "        joint_transform = JointTransform(self.transform)\n",
    "        x, y = joint_transform(x, y)\n",
    "\n",
    "        # Convert to NumPy arrays after joint transform\n",
    "        x_np = np.array(x)\n",
    "        y_np = np.array(y)\n",
    "\n",
    "        # Define the color to class ID mapping\n",
    "        color_to_class_id = {\n",
    "            (0, 0, 0): 0,  # Black to class 0\n",
    "            (255, 0, 0): 1,  # Red to class 1\n",
    "            (0, 255, 0): 2,  # Green to class 2\n",
    "            (0, 0, 255): 3,  # Blue to class 3\n",
    "        }\n",
    "\n",
    "        y_np = self.rgb_to_class_id(y_np, color_to_class_id)\n",
    "\n",
    "        # Convert the NumPy arrays to tensors\n",
    "        x_tensor = TF.to_tensor(x_np)\n",
    "        y_tensor = torch.from_numpy(y_np)\n",
    "\n",
    "        return x_tensor, y_tensor\n",
    "\n",
    "\n",
    "    def __len__(self):\n",
    "        return len(self.images)\n",
    "    \n",
    "\n",
    "\n"
   ]
  },
  {
   "cell_type": "code",
   "execution_count": 15,
   "metadata": {},
   "outputs": [
    {
     "name": "stdout",
     "output_type": "stream",
     "text": [
      "nr of batches: train:2705 valid:561 test:555\n",
      "torch.Size([3, 128, 128])\n",
      "torch.Size([128, 128])\n",
      "Value 0 appears 14717 times\n",
      "Value 1 appears 1058 times\n",
      "Value 2 appears 609 times\n"
     ]
    }
   ],
   "source": [
    "\n",
    "transform = torchvision.transforms.Compose([\n",
    "    torchvision.transforms.ToTensor(),\n",
    "    torchvision.transforms.RandomResizedCrop(64, scale=(0.8, 1.0)),  # Random crop and then resize\n",
    "    torchvision.transforms.RandomRotation(degrees=3),  # Random rotation\n",
    "    torchvision.transforms.RandomVerticalFlip(p=0.5),  # Random vertical flip\n",
    "    torchvision.transforms.RandomHorizontalFlip(p=0.5),  # Random horizontal flip\n",
    "    torchvision.transforms.Resize((64, 64))\n",
    "])\n",
    "\n",
    "training_set = FlyingObjects(training_img_dir, transform=transform)\n",
    "validation_set = FlyingObjects(validation_img_dir, transform=transform)\n",
    "testing_set = FlyingObjects(testing_img_dir, transform=transform)\n",
    "\n",
    "train_loader = DataLoader(training_set, batch_size=4, shuffle=True)\n",
    "val_loader = DataLoader(validation_set, batch_size=4, shuffle=True)\n",
    "test_loader = DataLoader(testing_set, batch_size=4, shuffle=True)\n",
    "\n",
    "print(f\"nr of batches: train:{len(train_loader)} valid:{len(val_loader)} test:{len(test_loader)}\")\n",
    "\n",
    "d, test = training_set.__getitem__(0)\n",
    "print(d.shape)\n",
    "print(test.shape)\n",
    "\n",
    "counts = torch.bincount(test.view(-1))\n",
    "\n",
    "for i, count in enumerate(counts):\n",
    "    if count > 0:\n",
    "        print(f\"Value {i} appears {count} times\")\n"
   ]
  },
  {
   "cell_type": "code",
   "execution_count": 16,
   "metadata": {},
   "outputs": [
    {
     "name": "stdout",
     "output_type": "stream",
     "text": [
      "Begin Training\n",
      "Epoch 1/50 Train_Loss = 0.172 Valid_Loss = 7.6738 Accuracy = 34.390774% IoU = 0.45810875 Elapsed_time = 225s\n",
      "Epoch 2/50 Train_Loss = 0.0247 Valid_Loss = 0.0173 Accuracy = 99.587288% IoU = 0.96635637 Elapsed_time = 228s\n",
      "Epoch 3/50 Train_Loss = 0.0112 Valid_Loss = 3.5981 Accuracy = 43.242924% IoU = 0.33906893 Elapsed_time = 230s\n",
      "Epoch 4/50 Train_Loss = 0.0072 Valid_Loss = 0.0106 Accuracy = 99.696854% IoU = 0.97505731 Elapsed_time = 231s\n",
      "Epoch 5/50 Train_Loss = 0.0057 Valid_Loss = 0.0062 Accuracy = 99.775635% IoU = 0.97642688 Elapsed_time = 232s\n",
      "Epoch 6/50 Train_Loss = 0.0049 Valid_Loss = 0.0055 Accuracy = 99.800804% IoU = 0.98228872 Elapsed_time = 228s\n",
      "Epoch 7/50 Train_Loss = 0.0044 Valid_Loss = 0.0058 Accuracy = 99.79335% IoU = 0.9781727 Elapsed_time = 195s\n",
      "Epoch 8/50 Train_Loss = 0.0039 Valid_Loss = 0.0045 Accuracy = 99.832756% IoU = 0.9833078 Elapsed_time = 162s\n",
      "Epoch 9/50 Train_Loss = 0.0039 Valid_Loss = 0.006 Accuracy = 99.823593% IoU = 0.98083889 Elapsed_time = 195s\n",
      "Epoch 10/50 Train_Loss = 0.0032 Valid_Loss = 0.0044 Accuracy = 99.839561% IoU = 0.98624149 Elapsed_time = 229s\n",
      "Epoch 11/50 Train_Loss = 0.0031 Valid_Loss = 0.004 Accuracy = 99.852577% IoU = 0.98779129 Elapsed_time = 228s\n",
      "Epoch 12/50 Train_Loss = 0.003 Valid_Loss = 0.0041 Accuracy = 99.855629% IoU = 0.98481794 Elapsed_time = 228s\n",
      "Epoch 13/50 Train_Loss = 0.0028 Valid_Loss = 0.0048 Accuracy = 99.833855% IoU = 0.98375036 Elapsed_time = 227s\n",
      "Epoch 14/50 Train_Loss = 0.0025 Valid_Loss = 0.0049 Accuracy = 99.831955% IoU = 0.98494944 Elapsed_time = 230s\n",
      "Epoch 15/50 Train_Loss = 0.0025 Valid_Loss = 0.0034 Accuracy = 99.880035% IoU = 0.98866873 Elapsed_time = 224s\n",
      "Epoch 16/50 Train_Loss = 0.0023 Valid_Loss = 0.0036 Accuracy = 99.873848% IoU = 0.98552407 Elapsed_time = 231s\n",
      "Epoch 17/50 Train_Loss = 0.0021 Valid_Loss = 0.0037 Accuracy = 99.876686% IoU = 0.98524111 Elapsed_time = 227s\n",
      "Epoch 18/50 Train_Loss = 0.002 Valid_Loss = 0.0029 Accuracy = 99.901443% IoU = 0.98959352 Elapsed_time = 184s\n",
      "Epoch 19/50 Train_Loss = 0.002 Valid_Loss = 0.0031 Accuracy = 99.900146% IoU = 0.98397803 Elapsed_time = 166s\n",
      "Epoch 20/50 Train_Loss = 0.0018 Valid_Loss = 0.0028 Accuracy = 99.907051% IoU = 0.99078271 Elapsed_time = 203s\n",
      "Epoch 21/50 Train_Loss = 0.0018 Valid_Loss = 0.0027 Accuracy = 99.910927% IoU = 0.99154578 Elapsed_time = 227s\n",
      "Epoch 22/50 Train_Loss = 0.0016 Valid_Loss = 0.0057 Accuracy = 99.824257% IoU = 0.9814316 Elapsed_time = 229s\n",
      "Epoch 23/50 Train_Loss = 0.0016 Valid_Loss = 0.0032 Accuracy = 99.898315% IoU = 0.98814673 Elapsed_time = 231s\n",
      "Epoch 24/50 Train_Loss = 0.0015 Valid_Loss = 5.4791 Accuracy = 28.174021% IoU = 0.21188034 Elapsed_time = 232s\n",
      "Epoch 25/50 Train_Loss = 0.0016 Valid_Loss = 0.003 Accuracy = 99.906425% IoU = 0.98923995 Elapsed_time = 230s\n",
      "Epoch 26/50 Train_Loss = 0.0015 Valid_Loss = 0.0039 Accuracy = 99.882065% IoU = 0.98789753 Elapsed_time = 227s\n",
      "Epoch 27/50 Train_Loss = 0.0015 Valid_Loss = 0.0026 Accuracy = 99.912376% IoU = 0.9842606 Elapsed_time = 227s\n",
      "Epoch 28/50 Train_Loss = 0.0013 Valid_Loss = 0.0025 Accuracy = 99.916725% IoU = 0.98829945 Elapsed_time = 230s\n",
      "Epoch 29/50 Train_Loss = 0.0013 Valid_Loss = 0.0027 Accuracy = 99.913818% IoU = 0.98817351 Elapsed_time = 229s\n",
      "Epoch 30/50 Train_Loss = 0.0012 Valid_Loss = 0.0031 Accuracy = 99.906311% IoU = 0.98769688 Elapsed_time = 228s\n",
      "Epoch 31/50 Train_Loss = 0.0012 Valid_Loss = 0.0024 Accuracy = 99.921211% IoU = 0.99225086 Elapsed_time = 229s\n",
      "Epoch 32/50 Train_Loss = 0.0013 Valid_Loss = 0.0023 Accuracy = 99.923851% IoU = 0.99169987 Elapsed_time = 231s\n",
      "Epoch 33/50 Train_Loss = 0.001 Valid_Loss = 0.0029 Accuracy = 99.911064% IoU = 0.98635593 Elapsed_time = 231s\n",
      "Epoch 34/50 Train_Loss = 0.0013 Valid_Loss = 0.0025 Accuracy = 99.921593% IoU = 0.98365287 Elapsed_time = 215s\n",
      "Epoch 35/50 Train_Loss = 0.001 Valid_Loss = 0.0023 Accuracy = 99.928642% IoU = 0.98856732 Elapsed_time = 163s\n",
      "Epoch 36/50 Train_Loss = 0.0013 Valid_Loss = 0.0024 Accuracy = 99.924652% IoU = 0.98317027 Elapsed_time = 163s\n",
      "Epoch 37/50 Train_Loss = 0.001 Valid_Loss = 0.0026 Accuracy = 99.923386% IoU = 0.98886375 Elapsed_time = 193s\n",
      "Epoch 38/50 Train_Loss = 0.001 Valid_Loss = 0.0025 Accuracy = 99.927132% IoU = 0.98944198 Elapsed_time = 229s\n",
      "Epoch 39/50 Train_Loss = 0.0011 Valid_Loss = 0.0023 Accuracy = 99.927544% IoU = 0.99062947 Elapsed_time = 225s\n",
      "Epoch 40/50 Train_Loss = 0.0011 Valid_Loss = 0.0024 Accuracy = 99.925308% IoU = 0.98697163 Elapsed_time = 228s\n",
      "Epoch 41/50 Train_Loss = 0.0011 Valid_Loss = 0.0023 Accuracy = 99.928207% IoU = 0.99257817 Elapsed_time = 229s\n",
      "Epoch 42/50 Train_Loss = 0.0009 Valid_Loss = 0.0023 Accuracy = 99.930527% IoU = 0.99302132 Elapsed_time = 228s\n",
      "Epoch 43/50 Train_Loss = 0.0009 Valid_Loss = 0.0022 Accuracy = 99.934036% IoU = 0.98812296 Elapsed_time = 229s\n",
      "Epoch 44/50 Train_Loss = 0.001 Valid_Loss = 0.0025 Accuracy = 99.927818% IoU = 0.9911636 Elapsed_time = 228s\n",
      "Epoch 45/50 Train_Loss = 0.001 Valid_Loss = 0.0024 Accuracy = 99.929504% IoU = 0.99265746 Elapsed_time = 185s\n",
      "Epoch 46/50 Train_Loss = 0.0009 Valid_Loss = 0.0027 Accuracy = 99.926476% IoU = 0.99185865 Elapsed_time = 164s\n",
      "Epoch 47/50 Train_Loss = 0.001 Valid_Loss = 0.0022 Accuracy = 99.931793% IoU = 0.99454745 Elapsed_time = 201s\n",
      "Epoch 48/50 Train_Loss = 0.0008 Valid_Loss = 0.0024 Accuracy = 99.931038% IoU = 0.98771516 Elapsed_time = 227s\n",
      "Epoch 49/50 Train_Loss = 0.001 Valid_Loss = 0.0025 Accuracy = 99.927238% IoU = 0.99231533 Elapsed_time = 232s\n",
      "Epoch 50/50 Train_Loss = 0.0008 Valid_Loss = 0.0022 Accuracy = 99.933769% IoU = 0.98456844 Elapsed_time = 225s\n"
     ]
    }
   ],
   "source": [
    "criterion = nn.CrossEntropyLoss()\n",
    "my_model = SimpleModel(input_size=64, hidden_size=10, output_size=2, num_layers=2)\n",
    "optimizer = optim.Adam(my_model.parameters(), lr=0.001)\n",
    "\n",
    "best_model_2, best_epoch_2, train_losses_2, val_losses_2 = a_proper_training(\n",
    "    50, my_model, optimizer, criterion, train_loader, val_loader\n",
    ")\n"
   ]
  },
  {
   "cell_type": "code",
   "execution_count": 24,
   "metadata": {},
   "outputs": [
    {
     "data": {
      "text/plain": [
       "<matplotlib.legend.Legend at 0x7f324167c880>"
      ]
     },
     "execution_count": 24,
     "metadata": {},
     "output_type": "execute_result"
    },
    {
     "data": {
      "image/png": "[encoded data removed]",
      "text/plain": [
       "<Figure size 640x480 with 1 Axes>"
      ]
     },
     "metadata": {},
     "output_type": "display_data"
    }
   ],
   "source": [
    "plt.plot(train_losses_2, label=\"train\")\n",
    "plt.plot(val_losses_2, label=\"val\")\n",
    "plt.axvline(x = best_epoch_2, color = 'r', label = f\"best epoch - {best_epoch_2}\")\n",
    "plt.title(\"Loss\")\n",
    "plt.ylim(top=0.3)  # adjust the top leaving bottom unchanged\n",
    "plt.ylim(bottom=0)  # adjust the bottom leaving top unchanged\n",
    "plt.legend()\n"
   ]
  },
  {
   "cell_type": "code",
   "execution_count": 18,
   "metadata": {},
   "outputs": [
    {
     "name": "stdout",
     "output_type": "stream",
     "text": [
      "<class '__main__.SimpleModel'>\n"
     ]
    },
    {
     "data": {
      "image/png": "[encoded data removed]",
      "text/plain": [
       "<Figure size 1200x400 with 3 Axes>"
      ]
     },
     "metadata": {},
     "output_type": "display_data"
    },
    {
     "data": {
      "image/png": "[encoded data removed]",
      "text/plain": [
       "<Figure size 1200x400 with 3 Axes>"
      ]
     },
     "metadata": {},
     "output_type": "display_data"
    },
    {
     "data": {
      "image/png": "[encoded data removed]",
      "text/plain": [
       "<Figure size 1200x400 with 3 Axes>"
      ]
     },
     "metadata": {},
     "output_type": "display_data"
    },
    {
     "data": {
      "image/png": "[encoded data removed]",
      "text/plain": [
       "<Figure size 1200x400 with 3 Axes>"
      ]
     },
     "metadata": {},
     "output_type": "display_data"
    }
   ],
   "source": [
    "print(type(best_model))\n",
    "display_images_labels_predictions(train_loader, best_model_2, 4)\n"
   ]
  },
  {
   "cell_type": "markdown",
   "metadata": {},
   "source": []
  }
 ],
 "metadata": {
  "kernelspec": {
   "display_name": "Python 3 (ipykernel)",
   "language": "python",
   "name": "python3"
  },
  "language_info": {
   "codemirror_mode": {
    "name": "ipython",
    "version": 3
   },
   "file_extension": ".py",
   "mimetype": "text/x-python",
   "name": "python",
   "nbconvert_exporter": "python",
   "pygments_lexer": "ipython3",
   "version": "3.9.13"
  }
 },
 "nbformat": 4,
 "nbformat_minor": 4
}
